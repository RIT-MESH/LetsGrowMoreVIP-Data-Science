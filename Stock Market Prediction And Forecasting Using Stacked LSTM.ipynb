{
 "cells": [
  {
   "cell_type": "markdown",
   "id": "63ebbecb",
   "metadata": {},
   "source": [
    "# LetsGrowMoreVIP-Data Science Intern\n",
    "# Author-Ritesh Meshram\n",
    "# Stock Market Prediction And Forecasting Using Stacked LSTM(BEGINNER LEVEL TASK)"
   ]
  },
  {
   "cell_type": "code",
   "execution_count": 1,
   "id": "5e5b43ce",
   "metadata": {},
   "outputs": [],
   "source": [
    "import pandas as pd\n",
    "import numpy as np\n",
    "import matplotlib.pyplot as plt\n",
    "from sklearn.preprocessing import MinMaxScaler\n",
    "from tensorflow.keras.models import Sequential\n",
    "from tensorflow.keras.layers import Dense\n",
    "from tensorflow.keras.layers import LSTM"
   ]
  },
  {
   "cell_type": "markdown",
   "id": "a5da794c",
   "metadata": {},
   "source": [
    "### loading the data"
   ]
  },
  {
   "cell_type": "code",
   "execution_count": 2,
   "id": "df422cda",
   "metadata": {},
   "outputs": [],
   "source": [
    "data = pd.read_csv('https://raw.githubusercontent.com/mwitiderrick/stockprice/master/NSE-TATAGLOBAL.csv')"
   ]
  },
  {
   "cell_type": "code",
   "execution_count": 3,
   "id": "97d60cc5",
   "metadata": {},
   "outputs": [
    {
     "data": {
      "text/html": [
       "<div>\n",
       "<style scoped>\n",
       "    .dataframe tbody tr th:only-of-type {\n",
       "        vertical-align: middle;\n",
       "    }\n",
       "\n",
       "    .dataframe tbody tr th {\n",
       "        vertical-align: top;\n",
       "    }\n",
       "\n",
       "    .dataframe thead th {\n",
       "        text-align: right;\n",
       "    }\n",
       "</style>\n",
       "<table border=\"1\" class=\"dataframe\">\n",
       "  <thead>\n",
       "    <tr style=\"text-align: right;\">\n",
       "      <th></th>\n",
       "      <th>Date</th>\n",
       "      <th>Open</th>\n",
       "      <th>High</th>\n",
       "      <th>Low</th>\n",
       "      <th>Last</th>\n",
       "      <th>Close</th>\n",
       "      <th>Total Trade Quantity</th>\n",
       "      <th>Turnover (Lacs)</th>\n",
       "    </tr>\n",
       "  </thead>\n",
       "  <tbody>\n",
       "    <tr>\n",
       "      <th>0</th>\n",
       "      <td>2018-09-28</td>\n",
       "      <td>234.05</td>\n",
       "      <td>235.95</td>\n",
       "      <td>230.20</td>\n",
       "      <td>233.50</td>\n",
       "      <td>233.75</td>\n",
       "      <td>3069914</td>\n",
       "      <td>7162.35</td>\n",
       "    </tr>\n",
       "    <tr>\n",
       "      <th>1</th>\n",
       "      <td>2018-09-27</td>\n",
       "      <td>234.55</td>\n",
       "      <td>236.80</td>\n",
       "      <td>231.10</td>\n",
       "      <td>233.80</td>\n",
       "      <td>233.25</td>\n",
       "      <td>5082859</td>\n",
       "      <td>11859.95</td>\n",
       "    </tr>\n",
       "    <tr>\n",
       "      <th>2</th>\n",
       "      <td>2018-09-26</td>\n",
       "      <td>240.00</td>\n",
       "      <td>240.00</td>\n",
       "      <td>232.50</td>\n",
       "      <td>235.00</td>\n",
       "      <td>234.25</td>\n",
       "      <td>2240909</td>\n",
       "      <td>5248.60</td>\n",
       "    </tr>\n",
       "    <tr>\n",
       "      <th>3</th>\n",
       "      <td>2018-09-25</td>\n",
       "      <td>233.30</td>\n",
       "      <td>236.75</td>\n",
       "      <td>232.00</td>\n",
       "      <td>236.25</td>\n",
       "      <td>236.10</td>\n",
       "      <td>2349368</td>\n",
       "      <td>5503.90</td>\n",
       "    </tr>\n",
       "    <tr>\n",
       "      <th>4</th>\n",
       "      <td>2018-09-24</td>\n",
       "      <td>233.55</td>\n",
       "      <td>239.20</td>\n",
       "      <td>230.75</td>\n",
       "      <td>234.00</td>\n",
       "      <td>233.30</td>\n",
       "      <td>3423509</td>\n",
       "      <td>7999.55</td>\n",
       "    </tr>\n",
       "  </tbody>\n",
       "</table>\n",
       "</div>"
      ],
      "text/plain": [
       "         Date    Open    High     Low    Last   Close  Total Trade Quantity  \\\n",
       "0  2018-09-28  234.05  235.95  230.20  233.50  233.75               3069914   \n",
       "1  2018-09-27  234.55  236.80  231.10  233.80  233.25               5082859   \n",
       "2  2018-09-26  240.00  240.00  232.50  235.00  234.25               2240909   \n",
       "3  2018-09-25  233.30  236.75  232.00  236.25  236.10               2349368   \n",
       "4  2018-09-24  233.55  239.20  230.75  234.00  233.30               3423509   \n",
       "\n",
       "   Turnover (Lacs)  \n",
       "0          7162.35  \n",
       "1         11859.95  \n",
       "2          5248.60  \n",
       "3          5503.90  \n",
       "4          7999.55  "
      ]
     },
     "execution_count": 3,
     "metadata": {},
     "output_type": "execute_result"
    }
   ],
   "source": [
    "data.head()"
   ]
  },
  {
   "cell_type": "code",
   "execution_count": 4,
   "id": "b7646a00",
   "metadata": {},
   "outputs": [
    {
     "data": {
      "text/html": [
       "<div>\n",
       "<style scoped>\n",
       "    .dataframe tbody tr th:only-of-type {\n",
       "        vertical-align: middle;\n",
       "    }\n",
       "\n",
       "    .dataframe tbody tr th {\n",
       "        vertical-align: top;\n",
       "    }\n",
       "\n",
       "    .dataframe thead th {\n",
       "        text-align: right;\n",
       "    }\n",
       "</style>\n",
       "<table border=\"1\" class=\"dataframe\">\n",
       "  <thead>\n",
       "    <tr style=\"text-align: right;\">\n",
       "      <th></th>\n",
       "      <th>Date</th>\n",
       "      <th>Open</th>\n",
       "      <th>High</th>\n",
       "      <th>Low</th>\n",
       "      <th>Last</th>\n",
       "      <th>Close</th>\n",
       "      <th>Total Trade Quantity</th>\n",
       "      <th>Turnover (Lacs)</th>\n",
       "    </tr>\n",
       "  </thead>\n",
       "  <tbody>\n",
       "    <tr>\n",
       "      <th>2030</th>\n",
       "      <td>2010-07-27</td>\n",
       "      <td>117.6</td>\n",
       "      <td>119.50</td>\n",
       "      <td>112.00</td>\n",
       "      <td>118.80</td>\n",
       "      <td>118.65</td>\n",
       "      <td>586100</td>\n",
       "      <td>694.98</td>\n",
       "    </tr>\n",
       "    <tr>\n",
       "      <th>2031</th>\n",
       "      <td>2010-07-26</td>\n",
       "      <td>120.1</td>\n",
       "      <td>121.00</td>\n",
       "      <td>117.10</td>\n",
       "      <td>117.10</td>\n",
       "      <td>117.60</td>\n",
       "      <td>658440</td>\n",
       "      <td>780.01</td>\n",
       "    </tr>\n",
       "    <tr>\n",
       "      <th>2032</th>\n",
       "      <td>2010-07-23</td>\n",
       "      <td>121.8</td>\n",
       "      <td>121.95</td>\n",
       "      <td>120.25</td>\n",
       "      <td>120.35</td>\n",
       "      <td>120.65</td>\n",
       "      <td>281312</td>\n",
       "      <td>340.31</td>\n",
       "    </tr>\n",
       "    <tr>\n",
       "      <th>2033</th>\n",
       "      <td>2010-07-22</td>\n",
       "      <td>120.3</td>\n",
       "      <td>122.00</td>\n",
       "      <td>120.25</td>\n",
       "      <td>120.75</td>\n",
       "      <td>120.90</td>\n",
       "      <td>293312</td>\n",
       "      <td>355.17</td>\n",
       "    </tr>\n",
       "    <tr>\n",
       "      <th>2034</th>\n",
       "      <td>2010-07-21</td>\n",
       "      <td>122.1</td>\n",
       "      <td>123.00</td>\n",
       "      <td>121.05</td>\n",
       "      <td>121.10</td>\n",
       "      <td>121.55</td>\n",
       "      <td>658666</td>\n",
       "      <td>803.56</td>\n",
       "    </tr>\n",
       "  </tbody>\n",
       "</table>\n",
       "</div>"
      ],
      "text/plain": [
       "            Date   Open    High     Low    Last   Close  Total Trade Quantity  \\\n",
       "2030  2010-07-27  117.6  119.50  112.00  118.80  118.65                586100   \n",
       "2031  2010-07-26  120.1  121.00  117.10  117.10  117.60                658440   \n",
       "2032  2010-07-23  121.8  121.95  120.25  120.35  120.65                281312   \n",
       "2033  2010-07-22  120.3  122.00  120.25  120.75  120.90                293312   \n",
       "2034  2010-07-21  122.1  123.00  121.05  121.10  121.55                658666   \n",
       "\n",
       "      Turnover (Lacs)  \n",
       "2030           694.98  \n",
       "2031           780.01  \n",
       "2032           340.31  \n",
       "2033           355.17  \n",
       "2034           803.56  "
      ]
     },
     "execution_count": 4,
     "metadata": {},
     "output_type": "execute_result"
    }
   ],
   "source": [
    "data.tail()"
   ]
  },
  {
   "cell_type": "code",
   "execution_count": 5,
   "id": "74808942",
   "metadata": {},
   "outputs": [
    {
     "data": {
      "text/plain": [
       "Date                    0\n",
       "Open                    0\n",
       "High                    0\n",
       "Low                     0\n",
       "Last                    0\n",
       "Close                   0\n",
       "Total Trade Quantity    0\n",
       "Turnover (Lacs)         0\n",
       "dtype: int64"
      ]
     },
     "execution_count": 5,
     "metadata": {},
     "output_type": "execute_result"
    }
   ],
   "source": [
    "data.isnull().sum() # finding null value"
   ]
  },
  {
   "cell_type": "code",
   "execution_count": 6,
   "id": "96e260ed",
   "metadata": {},
   "outputs": [
    {
     "data": {
      "text/html": [
       "<div>\n",
       "<style scoped>\n",
       "    .dataframe tbody tr th:only-of-type {\n",
       "        vertical-align: middle;\n",
       "    }\n",
       "\n",
       "    .dataframe tbody tr th {\n",
       "        vertical-align: top;\n",
       "    }\n",
       "\n",
       "    .dataframe thead th {\n",
       "        text-align: right;\n",
       "    }\n",
       "</style>\n",
       "<table border=\"1\" class=\"dataframe\">\n",
       "  <thead>\n",
       "    <tr style=\"text-align: right;\">\n",
       "      <th></th>\n",
       "      <th>Open</th>\n",
       "      <th>High</th>\n",
       "      <th>Low</th>\n",
       "      <th>Last</th>\n",
       "      <th>Close</th>\n",
       "      <th>Total Trade Quantity</th>\n",
       "      <th>Turnover (Lacs)</th>\n",
       "    </tr>\n",
       "  </thead>\n",
       "  <tbody>\n",
       "    <tr>\n",
       "      <th>count</th>\n",
       "      <td>2035.000000</td>\n",
       "      <td>2035.000000</td>\n",
       "      <td>2035.000000</td>\n",
       "      <td>2035.000000</td>\n",
       "      <td>2035.00000</td>\n",
       "      <td>2.035000e+03</td>\n",
       "      <td>2035.000000</td>\n",
       "    </tr>\n",
       "    <tr>\n",
       "      <th>mean</th>\n",
       "      <td>149.713735</td>\n",
       "      <td>151.992826</td>\n",
       "      <td>147.293931</td>\n",
       "      <td>149.474251</td>\n",
       "      <td>149.45027</td>\n",
       "      <td>2.335681e+06</td>\n",
       "      <td>3899.980565</td>\n",
       "    </tr>\n",
       "    <tr>\n",
       "      <th>std</th>\n",
       "      <td>48.664509</td>\n",
       "      <td>49.413109</td>\n",
       "      <td>47.931958</td>\n",
       "      <td>48.732570</td>\n",
       "      <td>48.71204</td>\n",
       "      <td>2.091778e+06</td>\n",
       "      <td>4570.767877</td>\n",
       "    </tr>\n",
       "    <tr>\n",
       "      <th>min</th>\n",
       "      <td>81.100000</td>\n",
       "      <td>82.800000</td>\n",
       "      <td>80.000000</td>\n",
       "      <td>81.000000</td>\n",
       "      <td>80.95000</td>\n",
       "      <td>3.961000e+04</td>\n",
       "      <td>37.040000</td>\n",
       "    </tr>\n",
       "    <tr>\n",
       "      <th>25%</th>\n",
       "      <td>120.025000</td>\n",
       "      <td>122.100000</td>\n",
       "      <td>118.300000</td>\n",
       "      <td>120.075000</td>\n",
       "      <td>120.05000</td>\n",
       "      <td>1.146444e+06</td>\n",
       "      <td>1427.460000</td>\n",
       "    </tr>\n",
       "    <tr>\n",
       "      <th>50%</th>\n",
       "      <td>141.500000</td>\n",
       "      <td>143.400000</td>\n",
       "      <td>139.600000</td>\n",
       "      <td>141.100000</td>\n",
       "      <td>141.25000</td>\n",
       "      <td>1.783456e+06</td>\n",
       "      <td>2512.030000</td>\n",
       "    </tr>\n",
       "    <tr>\n",
       "      <th>75%</th>\n",
       "      <td>157.175000</td>\n",
       "      <td>159.400000</td>\n",
       "      <td>155.150000</td>\n",
       "      <td>156.925000</td>\n",
       "      <td>156.90000</td>\n",
       "      <td>2.813594e+06</td>\n",
       "      <td>4539.015000</td>\n",
       "    </tr>\n",
       "    <tr>\n",
       "      <th>max</th>\n",
       "      <td>327.700000</td>\n",
       "      <td>328.750000</td>\n",
       "      <td>321.650000</td>\n",
       "      <td>325.950000</td>\n",
       "      <td>325.75000</td>\n",
       "      <td>2.919102e+07</td>\n",
       "      <td>55755.080000</td>\n",
       "    </tr>\n",
       "  </tbody>\n",
       "</table>\n",
       "</div>"
      ],
      "text/plain": [
       "              Open         High          Low         Last       Close  \\\n",
       "count  2035.000000  2035.000000  2035.000000  2035.000000  2035.00000   \n",
       "mean    149.713735   151.992826   147.293931   149.474251   149.45027   \n",
       "std      48.664509    49.413109    47.931958    48.732570    48.71204   \n",
       "min      81.100000    82.800000    80.000000    81.000000    80.95000   \n",
       "25%     120.025000   122.100000   118.300000   120.075000   120.05000   \n",
       "50%     141.500000   143.400000   139.600000   141.100000   141.25000   \n",
       "75%     157.175000   159.400000   155.150000   156.925000   156.90000   \n",
       "max     327.700000   328.750000   321.650000   325.950000   325.75000   \n",
       "\n",
       "       Total Trade Quantity  Turnover (Lacs)  \n",
       "count          2.035000e+03      2035.000000  \n",
       "mean           2.335681e+06      3899.980565  \n",
       "std            2.091778e+06      4570.767877  \n",
       "min            3.961000e+04        37.040000  \n",
       "25%            1.146444e+06      1427.460000  \n",
       "50%            1.783456e+06      2512.030000  \n",
       "75%            2.813594e+06      4539.015000  \n",
       "max            2.919102e+07     55755.080000  "
      ]
     },
     "execution_count": 6,
     "metadata": {},
     "output_type": "execute_result"
    }
   ],
   "source": [
    "data.describe() #looking into statistical values"
   ]
  },
  {
   "cell_type": "code",
   "execution_count": 7,
   "id": "672dec38",
   "metadata": {},
   "outputs": [
    {
     "data": {
      "text/html": [
       "<div>\n",
       "<style scoped>\n",
       "    .dataframe tbody tr th:only-of-type {\n",
       "        vertical-align: middle;\n",
       "    }\n",
       "\n",
       "    .dataframe tbody tr th {\n",
       "        vertical-align: top;\n",
       "    }\n",
       "\n",
       "    .dataframe thead th {\n",
       "        text-align: right;\n",
       "    }\n",
       "</style>\n",
       "<table border=\"1\" class=\"dataframe\">\n",
       "  <thead>\n",
       "    <tr style=\"text-align: right;\">\n",
       "      <th></th>\n",
       "      <th>index</th>\n",
       "      <th>Date</th>\n",
       "      <th>Open</th>\n",
       "      <th>High</th>\n",
       "      <th>Low</th>\n",
       "      <th>Last</th>\n",
       "      <th>Close</th>\n",
       "      <th>Total Trade Quantity</th>\n",
       "      <th>Turnover (Lacs)</th>\n",
       "    </tr>\n",
       "  </thead>\n",
       "  <tbody>\n",
       "    <tr>\n",
       "      <th>0</th>\n",
       "      <td>0</td>\n",
       "      <td>2018-09-28</td>\n",
       "      <td>234.05</td>\n",
       "      <td>235.95</td>\n",
       "      <td>230.20</td>\n",
       "      <td>233.50</td>\n",
       "      <td>233.75</td>\n",
       "      <td>3069914</td>\n",
       "      <td>7162.35</td>\n",
       "    </tr>\n",
       "    <tr>\n",
       "      <th>1</th>\n",
       "      <td>1</td>\n",
       "      <td>2018-09-27</td>\n",
       "      <td>234.55</td>\n",
       "      <td>236.80</td>\n",
       "      <td>231.10</td>\n",
       "      <td>233.80</td>\n",
       "      <td>233.25</td>\n",
       "      <td>5082859</td>\n",
       "      <td>11859.95</td>\n",
       "    </tr>\n",
       "    <tr>\n",
       "      <th>2</th>\n",
       "      <td>2</td>\n",
       "      <td>2018-09-26</td>\n",
       "      <td>240.00</td>\n",
       "      <td>240.00</td>\n",
       "      <td>232.50</td>\n",
       "      <td>235.00</td>\n",
       "      <td>234.25</td>\n",
       "      <td>2240909</td>\n",
       "      <td>5248.60</td>\n",
       "    </tr>\n",
       "    <tr>\n",
       "      <th>3</th>\n",
       "      <td>3</td>\n",
       "      <td>2018-09-25</td>\n",
       "      <td>233.30</td>\n",
       "      <td>236.75</td>\n",
       "      <td>232.00</td>\n",
       "      <td>236.25</td>\n",
       "      <td>236.10</td>\n",
       "      <td>2349368</td>\n",
       "      <td>5503.90</td>\n",
       "    </tr>\n",
       "    <tr>\n",
       "      <th>4</th>\n",
       "      <td>4</td>\n",
       "      <td>2018-09-24</td>\n",
       "      <td>233.55</td>\n",
       "      <td>239.20</td>\n",
       "      <td>230.75</td>\n",
       "      <td>234.00</td>\n",
       "      <td>233.30</td>\n",
       "      <td>3423509</td>\n",
       "      <td>7999.55</td>\n",
       "    </tr>\n",
       "  </tbody>\n",
       "</table>\n",
       "</div>"
      ],
      "text/plain": [
       "   index        Date    Open    High     Low    Last   Close  \\\n",
       "0      0  2018-09-28  234.05  235.95  230.20  233.50  233.75   \n",
       "1      1  2018-09-27  234.55  236.80  231.10  233.80  233.25   \n",
       "2      2  2018-09-26  240.00  240.00  232.50  235.00  234.25   \n",
       "3      3  2018-09-25  233.30  236.75  232.00  236.25  236.10   \n",
       "4      4  2018-09-24  233.55  239.20  230.75  234.00  233.30   \n",
       "\n",
       "   Total Trade Quantity  Turnover (Lacs)  \n",
       "0               3069914          7162.35  \n",
       "1               5082859         11859.95  \n",
       "2               2240909          5248.60  \n",
       "3               2349368          5503.90  \n",
       "4               3423509          7999.55  "
      ]
     },
     "execution_count": 7,
     "metadata": {},
     "output_type": "execute_result"
    }
   ],
   "source": [
    "data.reset_index(inplace=True) # to make index in proper order\n",
    "data.head()"
   ]
  },
  {
   "cell_type": "code",
   "execution_count": 8,
   "id": "08b322b7",
   "metadata": {},
   "outputs": [
    {
     "data": {
      "text/plain": [
       "0    233.75\n",
       "1    233.25\n",
       "2    234.25\n",
       "3    236.10\n",
       "4    233.30\n",
       "Name: Close, dtype: float64"
      ]
     },
     "execution_count": 8,
     "metadata": {},
     "output_type": "execute_result"
    }
   ],
   "source": [
    "df1=data.reset_index()['Close']\n",
    "df1.head()"
   ]
  },
  {
   "cell_type": "markdown",
   "id": "7c03e73b",
   "metadata": {},
   "source": [
    "### Plot the graph of stocks at Close"
   ]
  },
  {
   "cell_type": "code",
   "execution_count": 9,
   "id": "367f0c07",
   "metadata": {},
   "outputs": [
    {
     "data": {
      "image/png": "[encoded data removed]",
      "text/plain": [
       "<Figure size 432x288 with 1 Axes>"
      ]
     },
     "metadata": {
      "needs_background": "light"
     },
     "output_type": "display_data"
    }
   ],
   "source": [
    "plt.plot(data[\"Close\"])\n",
    "plt.xlabel('Number of datapoint')\n",
    "plt.ylabel('Close')\n",
    "plt.title(\"Stock Prediction\")\n",
    "plt.show()"
   ]
  },
  {
   "cell_type": "markdown",
   "id": "59cc5a8b",
   "metadata": {},
   "source": [
    "###  Normalization"
   ]
  },
  {
   "cell_type": "code",
   "execution_count": 10,
   "id": "969da11f",
   "metadata": {},
   "outputs": [],
   "source": [
    "scaler=MinMaxScaler(feature_range=(0,1))\n",
    "df1=scaler.fit_transform(np.array(df1).reshape(-1,1))"
   ]
  },
  {
   "cell_type": "code",
   "execution_count": 11,
   "id": "01ee4613",
   "metadata": {},
   "outputs": [],
   "source": [
    "##splitting dataset into train and test split\n",
    "training_size=int(len(df1)*0.65)\n",
    "test_size=len(df1)-training_size\n",
    "\n",
    "train_data=df1[0:training_size,:]\n",
    "test_data=df1[training_size:len(df1),:1]"
   ]
  },
  {
   "cell_type": "code",
   "execution_count": 12,
   "id": "e53b3aa0",
   "metadata": {},
   "outputs": [
    {
     "data": {
      "text/plain": [
       "(1322, 713)"
      ]
     },
     "execution_count": 12,
     "metadata": {},
     "output_type": "execute_result"
    }
   ],
   "source": [
    "training_size,test_size # finding train and test size"
   ]
  },
  {
   "cell_type": "code",
   "execution_count": 13,
   "id": "510cf155",
   "metadata": {},
   "outputs": [
    {
     "data": {
      "text/plain": [
       "array([[0.62418301],\n",
       "       [0.62214052],\n",
       "       [0.62622549],\n",
       "       ...,\n",
       "       [0.25347222],\n",
       "       [0.26041667],\n",
       "       [0.2563317 ]])"
      ]
     },
     "execution_count": 13,
     "metadata": {},
     "output_type": "execute_result"
    }
   ],
   "source": [
    "train_data"
   ]
  },
  {
   "cell_type": "code",
   "execution_count": 14,
   "id": "4496112b",
   "metadata": {},
   "outputs": [],
   "source": [
    "#convert an array of values into a dataset matrix\n",
    "def datasetCrtd(dataset, time_step=1):\n",
    "  dataX, dataY = [], []\n",
    "  for i in range(len(dataset)-time_step-1):\n",
    "    a = dataset[i:(i+time_step), 0]\n",
    "    dataX.append(a)\n",
    "    dataY.append(dataset[i + time_step, 0])\n",
    "\n",
    "  return np.array(dataX), np.array(dataY)"
   ]
  },
  {
   "cell_type": "code",
   "execution_count": 15,
   "id": "f0061ce8",
   "metadata": {},
   "outputs": [
    {
     "name": "stdout",
     "output_type": "stream",
     "text": [
      "(1221, 100)\n",
      "(1221,)\n"
     ]
    },
    {
     "data": {
      "text/plain": [
       "(None, None)"
      ]
     },
     "execution_count": 15,
     "metadata": {},
     "output_type": "execute_result"
    }
   ],
   "source": [
    "# reshape into X=t,t+1,t+2,t+3 and Y=t+4\n",
    "time_step = 100\n",
    "X_train, y_train = datasetCrtd(train_data, time_step)\n",
    "X_test, ytest = datasetCrtd(test_data, time_step)\n",
    "print(X_train.shape), print(y_train.shape)"
   ]
  },
  {
   "cell_type": "code",
   "execution_count": 16,
   "id": "368f4e8f",
   "metadata": {},
   "outputs": [],
   "source": [
    "# reshape input to be [samples, time steps, features] which is required for LSTM\n",
    "X_train =X_train.reshape(X_train.shape[0],X_train.shape[1] , 1)\n",
    "X_test = X_test.reshape(X_test.shape[0],X_test.shape[1] , 1)"
   ]
  },
  {
   "cell_type": "markdown",
   "id": "1f447895",
   "metadata": {},
   "source": [
    "### Build the Model"
   ]
  },
  {
   "cell_type": "code",
   "execution_count": 17,
   "id": "c585a927",
   "metadata": {},
   "outputs": [
    {
     "name": "stdout",
     "output_type": "stream",
     "text": [
      "Model: \"sequential\"\n",
      "_________________________________________________________________\n",
      " Layer (type)                Output Shape              Param #   \n",
      "=================================================================\n",
      " lstm (LSTM)                 (None, 100, 50)           10400     \n",
      "                                                                 \n",
      " lstm_1 (LSTM)               (None, 100, 50)           20200     \n",
      "                                                                 \n",
      " lstm_2 (LSTM)               (None, 50)                20200     \n",
      "                                                                 \n",
      " dense (Dense)               (None, 1)                 51        \n",
      "                                                                 \n",
      "=================================================================\n",
      "Total params: 50,851\n",
      "Trainable params: 50,851\n",
      "Non-trainable params: 0\n",
      "_________________________________________________________________\n"
     ]
    }
   ],
   "source": [
    "model = Sequential()\n",
    "model.add(LSTM(50, return_sequences=True, input_shape=(100,1)))\n",
    "model.add(LSTM(50, return_sequences=True))\n",
    "model.add(LSTM(50))\n",
    "model.add(Dense(1))\n",
    "model.compile(loss='mean_squared_error', optimizer='adam')\n",
    "\n",
    "model.summary()"
   ]
  },
  {
   "cell_type": "code",
   "execution_count": 18,
   "id": "51a9cbcc",
   "metadata": {},
   "outputs": [
    {
     "name": "stdout",
     "output_type": "stream",
     "text": [
      "Epoch 1/100\n",
      "20/20 [==============================] - 12s 252ms/step - loss: 0.0238 - val_loss: 0.0055\n",
      "Epoch 2/100\n",
      "20/20 [==============================] - 3s 156ms/step - loss: 0.0034 - val_loss: 0.0012\n",
      "Epoch 3/100\n",
      "20/20 [==============================] - 3s 151ms/step - loss: 0.0018 - val_loss: 9.2201e-04\n",
      "Epoch 4/100\n",
      "20/20 [==============================] - 3s 152ms/step - loss: 0.0017 - val_loss: 0.0010\n",
      "Epoch 5/100\n",
      "20/20 [==============================] - 3s 151ms/step - loss: 0.0016 - val_loss: 9.9356e-04\n",
      "Epoch 6/100\n",
      "20/20 [==============================] - 3s 153ms/step - loss: 0.0016 - val_loss: 0.0012\n",
      "Epoch 7/100\n",
      "20/20 [==============================] - 3s 154ms/step - loss: 0.0014 - val_loss: 0.0011\n",
      "Epoch 8/100\n",
      "20/20 [==============================] - 3s 154ms/step - loss: 0.0014 - val_loss: 0.0011\n",
      "Epoch 9/100\n",
      "20/20 [==============================] - 3s 153ms/step - loss: 0.0013 - val_loss: 0.0012\n",
      "Epoch 10/100\n",
      "20/20 [==============================] - 3s 151ms/step - loss: 0.0013 - val_loss: 8.2391e-04\n",
      "Epoch 11/100\n",
      "20/20 [==============================] - 3s 152ms/step - loss: 0.0013 - val_loss: 0.0011\n",
      "Epoch 12/100\n",
      "20/20 [==============================] - 3s 151ms/step - loss: 0.0013 - val_loss: 0.0011\n",
      "Epoch 13/100\n",
      "20/20 [==============================] - 3s 152ms/step - loss: 0.0011 - val_loss: 0.0010\n",
      "Epoch 14/100\n",
      "20/20 [==============================] - 3s 153ms/step - loss: 9.9736e-04 - val_loss: 8.5497e-04\n",
      "Epoch 15/100\n",
      "20/20 [==============================] - 3s 154ms/step - loss: 9.5766e-04 - val_loss: 8.2437e-04\n",
      "Epoch 16/100\n",
      "20/20 [==============================] - 3s 152ms/step - loss: 9.5845e-04 - val_loss: 7.7947e-04\n",
      "Epoch 17/100\n",
      "20/20 [==============================] - 3s 153ms/step - loss: 9.6884e-04 - val_loss: 9.8104e-04\n",
      "Epoch 18/100\n",
      "20/20 [==============================] - 3s 152ms/step - loss: 8.5664e-04 - val_loss: 7.2890e-04\n",
      "Epoch 19/100\n",
      "20/20 [==============================] - 3s 152ms/step - loss: 8.8792e-04 - val_loss: 7.4446e-04\n",
      "Epoch 20/100\n",
      "20/20 [==============================] - 3s 152ms/step - loss: 9.7054e-04 - val_loss: 0.0012\n",
      "Epoch 21/100\n",
      "20/20 [==============================] - 3s 152ms/step - loss: 0.0012 - val_loss: 8.4877e-04\n",
      "Epoch 22/100\n",
      "20/20 [==============================] - 3s 152ms/step - loss: 8.4923e-04 - val_loss: 8.0395e-04\n",
      "Epoch 23/100\n",
      "20/20 [==============================] - 3s 152ms/step - loss: 7.6970e-04 - val_loss: 0.0011\n",
      "Epoch 24/100\n",
      "20/20 [==============================] - 3s 153ms/step - loss: 9.6481e-04 - val_loss: 8.6094e-04\n",
      "Epoch 25/100\n",
      "20/20 [==============================] - 3s 153ms/step - loss: 7.7180e-04 - val_loss: 6.8329e-04\n",
      "Epoch 26/100\n",
      "20/20 [==============================] - 3s 154ms/step - loss: 7.0258e-04 - val_loss: 6.9151e-04\n",
      "Epoch 27/100\n",
      "20/20 [==============================] - 3s 153ms/step - loss: 7.6069e-04 - val_loss: 7.8362e-04\n",
      "Epoch 28/100\n",
      "20/20 [==============================] - 3s 155ms/step - loss: 7.6139e-04 - val_loss: 0.0014\n",
      "Epoch 29/100\n",
      "20/20 [==============================] - 3s 157ms/step - loss: 8.3809e-04 - val_loss: 8.1970e-04\n",
      "Epoch 30/100\n",
      "20/20 [==============================] - 3s 156ms/step - loss: 6.8471e-04 - val_loss: 7.5568e-04\n",
      "Epoch 31/100\n",
      "20/20 [==============================] - 3s 156ms/step - loss: 6.8444e-04 - val_loss: 6.1784e-04\n",
      "Epoch 32/100\n",
      "20/20 [==============================] - 3s 153ms/step - loss: 6.5008e-04 - val_loss: 7.2177e-04\n",
      "Epoch 33/100\n",
      "20/20 [==============================] - 3s 153ms/step - loss: 6.3146e-04 - val_loss: 9.0794e-04\n",
      "Epoch 34/100\n",
      "20/20 [==============================] - 3s 155ms/step - loss: 8.1607e-04 - val_loss: 6.8721e-04\n",
      "Epoch 35/100\n",
      "20/20 [==============================] - 3s 156ms/step - loss: 5.8189e-04 - val_loss: 6.7223e-04\n",
      "Epoch 36/100\n",
      "20/20 [==============================] - 3s 153ms/step - loss: 5.8366e-04 - val_loss: 5.0661e-04\n",
      "Epoch 37/100\n",
      "20/20 [==============================] - 3s 153ms/step - loss: 6.5533e-04 - val_loss: 6.0468e-04\n",
      "Epoch 38/100\n",
      "20/20 [==============================] - 3s 155ms/step - loss: 5.9592e-04 - val_loss: 6.0557e-04\n",
      "Epoch 39/100\n",
      "20/20 [==============================] - 3s 154ms/step - loss: 5.5993e-04 - val_loss: 6.5672e-04\n",
      "Epoch 40/100\n",
      "20/20 [==============================] - 3s 153ms/step - loss: 5.6233e-04 - val_loss: 6.8116e-04\n",
      "Epoch 41/100\n",
      "20/20 [==============================] - 3s 154ms/step - loss: 8.3874e-04 - val_loss: 8.4920e-04\n",
      "Epoch 42/100\n",
      "20/20 [==============================] - 3s 155ms/step - loss: 6.7807e-04 - val_loss: 5.9527e-04\n",
      "Epoch 43/100\n",
      "20/20 [==============================] - 3s 161ms/step - loss: 5.4730e-04 - val_loss: 6.0528e-04\n",
      "Epoch 44/100\n",
      "20/20 [==============================] - 3s 162ms/step - loss: 5.6629e-04 - val_loss: 5.0098e-04\n",
      "Epoch 45/100\n",
      "20/20 [==============================] - 3s 154ms/step - loss: 5.7349e-04 - val_loss: 5.3364e-04\n",
      "Epoch 46/100\n",
      "20/20 [==============================] - 3s 154ms/step - loss: 5.1390e-04 - val_loss: 8.0172e-04\n",
      "Epoch 47/100\n",
      "20/20 [==============================] - 3s 155ms/step - loss: 5.2113e-04 - val_loss: 7.0503e-04\n",
      "Epoch 48/100\n",
      "20/20 [==============================] - 3s 154ms/step - loss: 7.9739e-04 - val_loss: 6.1548e-04\n",
      "Epoch 49/100\n",
      "20/20 [==============================] - 3s 154ms/step - loss: 6.0269e-04 - val_loss: 5.2694e-04\n",
      "Epoch 50/100\n",
      "20/20 [==============================] - 3s 154ms/step - loss: 5.0194e-04 - val_loss: 4.8250e-04\n",
      "Epoch 51/100\n",
      "20/20 [==============================] - 3s 153ms/step - loss: 4.7780e-04 - val_loss: 4.6288e-04\n",
      "Epoch 52/100\n",
      "20/20 [==============================] - 3s 154ms/step - loss: 4.7511e-04 - val_loss: 5.6956e-04\n",
      "Epoch 53/100\n",
      "20/20 [==============================] - 3s 155ms/step - loss: 4.4954e-04 - val_loss: 5.5078e-04\n",
      "Epoch 54/100\n",
      "20/20 [==============================] - 3s 154ms/step - loss: 4.3998e-04 - val_loss: 4.5751e-04\n",
      "Epoch 55/100\n",
      "20/20 [==============================] - 3s 155ms/step - loss: 4.3202e-04 - val_loss: 4.6034e-04\n",
      "Epoch 56/100\n",
      "20/20 [==============================] - 3s 154ms/step - loss: 4.5031e-04 - val_loss: 4.9932e-04\n",
      "Epoch 57/100\n",
      "20/20 [==============================] - 3s 154ms/step - loss: 4.3117e-04 - val_loss: 4.0425e-04\n",
      "Epoch 58/100\n",
      "20/20 [==============================] - 3s 153ms/step - loss: 4.2718e-04 - val_loss: 3.8067e-04\n",
      "Epoch 59/100\n",
      "20/20 [==============================] - 3s 152ms/step - loss: 4.2137e-04 - val_loss: 3.7454e-04\n",
      "Epoch 60/100\n",
      "20/20 [==============================] - 3s 152ms/step - loss: 3.9020e-04 - val_loss: 5.1885e-04\n",
      "Epoch 61/100\n",
      "20/20 [==============================] - 3s 153ms/step - loss: 4.2640e-04 - val_loss: 3.4160e-04\n",
      "Epoch 62/100\n",
      "20/20 [==============================] - 3s 152ms/step - loss: 4.0204e-04 - val_loss: 3.3551e-04\n",
      "Epoch 63/100\n",
      "20/20 [==============================] - 3s 152ms/step - loss: 4.2700e-04 - val_loss: 4.7899e-04\n",
      "Epoch 64/100\n",
      "20/20 [==============================] - 3s 153ms/step - loss: 3.7640e-04 - val_loss: 6.1685e-04\n",
      "Epoch 65/100\n",
      "20/20 [==============================] - 3s 153ms/step - loss: 4.6307e-04 - val_loss: 4.3244e-04\n",
      "Epoch 66/100\n",
      "20/20 [==============================] - 3s 152ms/step - loss: 4.2363e-04 - val_loss: 3.3068e-04\n",
      "Epoch 67/100\n",
      "20/20 [==============================] - 3s 153ms/step - loss: 3.7325e-04 - val_loss: 4.3513e-04\n",
      "Epoch 68/100\n",
      "20/20 [==============================] - 3s 152ms/step - loss: 3.6587e-04 - val_loss: 3.3227e-04\n",
      "Epoch 69/100\n",
      "20/20 [==============================] - 3s 154ms/step - loss: 3.7421e-04 - val_loss: 4.9401e-04\n",
      "Epoch 70/100\n",
      "20/20 [==============================] - 3s 152ms/step - loss: 3.4706e-04 - val_loss: 3.3721e-04\n",
      "Epoch 71/100\n",
      "20/20 [==============================] - 3s 152ms/step - loss: 3.3127e-04 - val_loss: 3.4193e-04\n",
      "Epoch 72/100\n",
      "20/20 [==============================] - 3s 153ms/step - loss: 3.1384e-04 - val_loss: 4.3102e-04\n",
      "Epoch 73/100\n",
      "20/20 [==============================] - 3s 153ms/step - loss: 3.6398e-04 - val_loss: 3.2203e-04\n",
      "Epoch 74/100\n",
      "20/20 [==============================] - 3s 153ms/step - loss: 3.5849e-04 - val_loss: 3.2091e-04\n",
      "Epoch 75/100\n",
      "20/20 [==============================] - 3s 152ms/step - loss: 3.0316e-04 - val_loss: 2.9891e-04\n",
      "Epoch 76/100\n"
     ]
    },
    {
     "name": "stdout",
     "output_type": "stream",
     "text": [
      "20/20 [==============================] - 3s 152ms/step - loss: 3.3664e-04 - val_loss: 3.0196e-04\n",
      "Epoch 77/100\n",
      "20/20 [==============================] - 3s 153ms/step - loss: 2.8829e-04 - val_loss: 2.6872e-04\n",
      "Epoch 78/100\n",
      "20/20 [==============================] - 3s 153ms/step - loss: 3.1640e-04 - val_loss: 3.1142e-04\n",
      "Epoch 79/100\n",
      "20/20 [==============================] - 3s 152ms/step - loss: 3.1037e-04 - val_loss: 2.9662e-04\n",
      "Epoch 80/100\n",
      "20/20 [==============================] - 3s 153ms/step - loss: 3.3134e-04 - val_loss: 2.8513e-04\n",
      "Epoch 81/100\n",
      "20/20 [==============================] - 3s 154ms/step - loss: 4.0900e-04 - val_loss: 2.5476e-04\n",
      "Epoch 82/100\n",
      "20/20 [==============================] - 3s 153ms/step - loss: 4.3685e-04 - val_loss: 3.6791e-04\n",
      "Epoch 83/100\n",
      "20/20 [==============================] - 3s 153ms/step - loss: 2.9396e-04 - val_loss: 2.4562e-04\n",
      "Epoch 84/100\n",
      "20/20 [==============================] - 3s 152ms/step - loss: 3.1633e-04 - val_loss: 2.9833e-04\n",
      "Epoch 85/100\n",
      "20/20 [==============================] - 3s 154ms/step - loss: 2.6848e-04 - val_loss: 2.6400e-04\n",
      "Epoch 86/100\n",
      "20/20 [==============================] - 3s 152ms/step - loss: 3.1885e-04 - val_loss: 2.4686e-04\n",
      "Epoch 87/100\n",
      "20/20 [==============================] - 3s 153ms/step - loss: 3.5925e-04 - val_loss: 2.5133e-04\n",
      "Epoch 88/100\n",
      "20/20 [==============================] - 3s 152ms/step - loss: 2.6319e-04 - val_loss: 4.0481e-04\n",
      "Epoch 89/100\n",
      "20/20 [==============================] - 3s 153ms/step - loss: 3.8701e-04 - val_loss: 3.7235e-04\n",
      "Epoch 90/100\n",
      "20/20 [==============================] - 3s 152ms/step - loss: 3.0378e-04 - val_loss: 3.2029e-04\n",
      "Epoch 91/100\n",
      "20/20 [==============================] - 3s 152ms/step - loss: 2.9174e-04 - val_loss: 2.9534e-04\n",
      "Epoch 92/100\n",
      "20/20 [==============================] - 3s 152ms/step - loss: 2.5918e-04 - val_loss: 2.3187e-04\n",
      "Epoch 93/100\n",
      "20/20 [==============================] - 3s 151ms/step - loss: 2.5307e-04 - val_loss: 2.9123e-04\n",
      "Epoch 94/100\n",
      "20/20 [==============================] - 3s 152ms/step - loss: 2.7655e-04 - val_loss: 2.7100e-04\n",
      "Epoch 95/100\n",
      "20/20 [==============================] - 3s 153ms/step - loss: 2.6047e-04 - val_loss: 2.5869e-04\n",
      "Epoch 96/100\n",
      "20/20 [==============================] - 3s 155ms/step - loss: 2.4905e-04 - val_loss: 4.2134e-04\n",
      "Epoch 97/100\n",
      "20/20 [==============================] - 3s 157ms/step - loss: 2.6523e-04 - val_loss: 2.3838e-04\n",
      "Epoch 98/100\n",
      "20/20 [==============================] - 3s 155ms/step - loss: 2.5966e-04 - val_loss: 2.2775e-04\n",
      "Epoch 99/100\n",
      "20/20 [==============================] - 3s 156ms/step - loss: 2.7577e-04 - val_loss: 2.6723e-04\n",
      "Epoch 100/100\n",
      "20/20 [==============================] - 3s 156ms/step - loss: 2.4539e-04 - val_loss: 3.1591e-04\n"
     ]
    },
    {
     "data": {
      "text/plain": [
       "<keras.callbacks.History at 0xeff9865ee0>"
      ]
     },
     "execution_count": 18,
     "metadata": {},
     "output_type": "execute_result"
    }
   ],
   "source": [
    "model.fit(X_train,y_train,validation_data=(X_test,ytest),epochs=100,batch_size=64,verbose=1)"
   ]
  },
  {
   "cell_type": "code",
   "execution_count": 19,
   "id": "1be45bc7",
   "metadata": {},
   "outputs": [],
   "source": [
    "### Lets Do the prediction and check performance metrics\n",
    "train_predict=model.predict(X_train)\n",
    "test_predict=model.predict(X_test)\n",
    "\n",
    "##Transformback to original form\n",
    "train_predict=scaler.inverse_transform(train_predict)\n",
    "test_predict=scaler.inverse_transform(test_predict)"
   ]
  },
  {
   "cell_type": "code",
   "execution_count": 20,
   "id": "29bf5618",
   "metadata": {},
   "outputs": [
    {
     "data": {
      "image/png": "[encoded data removed]",
      "text/plain": [
       "<Figure size 432x288 with 1 Axes>"
      ]
     },
     "metadata": {
      "needs_background": "light"
     },
     "output_type": "display_data"
    }
   ],
   "source": [
    "### Plotting \n",
    "# shift train predictions for plotting\n",
    "look_back=100\n",
    "trainPredictPlot = np.empty_like(df1)\n",
    "trainPredictPlot[:, :] = np.nan\n",
    "trainPredictPlot[look_back:len(train_predict)+look_back, :] = train_predict\n",
    "# shift test predictions for plotting\n",
    "testPredictPlot = np.empty_like(df1)\n",
    "testPredictPlot[:, :] = np.nan\n",
    "testPredictPlot[len(train_predict)+(look_back*2)+1:len(df1)-1, :] = test_predict\n",
    "# plot baseline and predictions\n",
    "plt.plot(scaler.inverse_transform(df1))\n",
    "plt.plot(trainPredictPlot)\n",
    "plt.plot(testPredictPlot)\n",
    "plt.show()"
   ]
  },
  {
   "cell_type": "code",
   "execution_count": null,
   "id": "e8505789",
   "metadata": {},
   "outputs": [],
   "source": []
  }
 ],
 "metadata": {
  "kernelspec": {
   "display_name": "Python 3",
   "language": "python",
   "name": "python3"
  },
  "language_info": {
   "codemirror_mode": {
    "name": "ipython",
    "version": 3
   },
   "file_extension": ".py",
   "mimetype": "text/x-python",
   "name": "python",
   "nbconvert_exporter": "python",
   "pygments_lexer": "ipython3",
   "version": "3.9.5"
  }
 },
 "nbformat": 4,
 "nbformat_minor": 5
}
