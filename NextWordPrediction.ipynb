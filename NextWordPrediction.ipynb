{
 "cells": [
  {
   "cell_type": "markdown",
   "metadata": {
    "id": "vJtxYAGU7KoG"
   },
   "source": [
    "# LetsGrowMoreVIP-Data Science Intern\n",
    "# Author-Ritesh Meshram\n",
    "# Next Word Prediction(ADVANCE LEVEL TASK)"
   ]
  },
  {
   "cell_type": "code",
   "execution_count": 1,
   "metadata": {
    "id": "In2rjBXA7EUj"
   },
   "outputs": [],
   "source": [
    "#Importing the libraries\n",
    "import numpy as np\n",
    "import matplotlib.pyplot as plt\n",
    "from keras.models import Sequential, load_model\n",
    "from keras.layers import LSTM\n",
    "from keras.layers.core import Dense, Activation\n",
    "from tensorflow.keras.optimizers import RMSprop\n",
    "from nltk.tokenize import RegexpTokenizer \n",
    "import collections\n",
    "import pickle\n",
    "import heapq"
   ]
  },
  {
   "cell_type": "code",
   "execution_count": 2,
   "metadata": {
    "id": "ftrzBgBL7Obc"
   },
   "outputs": [],
   "source": [
    "#loading the data to the variable\n",
    "df = '1661-0.txt'\n",
    "with open(df,encoding='utf-8') as f:\n",
    "    text= f.readlines()"
   ]
  },
  {
   "cell_type": "code",
   "execution_count": 3,
   "metadata": {
    "colab": {
     "base_uri": "https://localhost:8080/",
     "height": 188
    },
    "id": "5t9K_zNJ2tVx",
    "outputId": "e2c9b287-55bb-45fd-f82c-ca7a335a52bf"
   },
   "outputs": [
    {
     "name": "stdout",
     "output_type": "stream",
     "text": [
      "corpus length: 581136\n"
     ]
    }
   ],
   "source": [
    "#Reading and converting data to lower case\n",
    "text = open(df,encoding='utf-8').read().lower()\n",
    "print('corpus length:', len(text))\n"
   ]
  },
  {
   "cell_type": "code",
   "execution_count": 5,
   "metadata": {
    "colab": {
     "base_uri": "https://localhost:8080/"
    },
    "id": "VBLupe663kUM",
    "outputId": "11187f0e-6733-407a-9016-41e65cb92be8"
   },
   "outputs": [],
   "source": [
    "#Tokenizing the data and converting to tokens\n",
    "tokenizer = RegexpTokenizer(r'\\w+')\n",
    "words = tokenizer.tokenize(text)"
   ]
  },
  {
   "cell_type": "code",
   "execution_count": 6,
   "metadata": {
    "id": "IKSuJ23e9JIY"
   },
   "outputs": [],
   "source": [
    "#Extracting the unique words using the np.unique function\n",
    "unique_words = np.unique(words)\n",
    "unique_word_index = dict((c, i) for i, c in enumerate(unique_words))"
   ]
  },
  {
   "cell_type": "code",
   "execution_count": 7,
   "metadata": {
    "colab": {
     "base_uri": "https://localhost:8080/"
    },
    "id": "lGEowYJK9NTy",
    "outputId": "49ffc5a0-aca5-4fdc-c736-7f002f483a5e"
   },
   "outputs": [
    {
     "name": "stdout",
     "output_type": "stream",
     "text": [
      "Previous : ['contents', 'i', 'a', 'scandal', 'in']\n",
      "word_next : bohemia\n"
     ]
    }
   ],
   "source": [
    "#Finding the previous and word_next words\n",
    "LENGTH = 5\n",
    "word_prev = []\n",
    "word_next= []\n",
    "for i in range(len(words) - LENGTH):\n",
    "    word_prev.append(words[i:i + LENGTH])\n",
    "    word_next.append(words[i + LENGTH])\n",
    "#Printing the previous and word_next words\n",
    "print(\"Previous :\",word_prev[0])\n",
    "print(\"word_next :\",word_next[0])"
   ]
  },
  {
   "cell_type": "code",
   "execution_count": 8,
   "metadata": {
    "id": "sV1OZQar5C4r"
   },
   "outputs": [],
   "source": [
    "#Creating the array with number of zeros\n",
    "X = np.zeros((len(word_prev), LENGTH, len(unique_words)), dtype=bool)\n",
    "Y = np.zeros((len(word_next), len(unique_words)), dtype=bool)\n",
    "#Properly indexing the previous and next words\n",
    "for i, each_words in enumerate(word_prev):\n",
    "    for j, word in enumerate(each_words):\n",
    "        X[i, j, unique_word_index[word]] = 1\n",
    "    Y[i, unique_word_index[word_next[i]]] = 1"
   ]
  },
  {
   "cell_type": "code",
   "execution_count": 9,
   "metadata": {
    "colab": {
     "base_uri": "https://localhost:8080/"
    },
    "id": "BPV96kok9U2h",
    "outputId": "d5fc92ed-949c-4fa4-bbed-e2aa91a870f5"
   },
   "outputs": [
    {
     "name": "stdout",
     "output_type": "stream",
     "text": [
      "[False False False ... False False False]\n",
      "False\n"
     ]
    }
   ],
   "source": [
    "print(X[0][0])\n",
    "print(Y[0][0])"
   ]
  },
  {
   "cell_type": "code",
   "execution_count": 10,
   "metadata": {
    "id": "NRq2_xNV9iIA"
   },
   "outputs": [],
   "source": [
    "#Selecting the Sequential model \n",
    "model = Sequential()\n",
    "model.add(LSTM(128, input_shape=(LENGTH, len(unique_words))))\n",
    "model.add(Dense(len(unique_words)))\n",
    "#setting Softmax Activation function\n",
    "model.add(Activation('softmax'))\n",
    "#setting the RMSprop Optimizer\n",
    "optimizer = RMSprop(learning_rate=0.01)"
   ]
  },
  {
   "cell_type": "code",
   "execution_count": 11,
   "metadata": {
    "id": "1D5vHtl16Vcr"
   },
   "outputs": [],
   "source": [
    "#Compiling the model\n",
    "model.compile(loss='categorical_crossentropy', optimizer=optimizer, metrics=['accuracy'])"
   ]
  },
  {
   "cell_type": "code",
   "execution_count": 12,
   "metadata": {
    "scrolled": true
   },
   "outputs": [
    {
     "name": "stdout",
     "output_type": "stream",
     "text": [
      "Model: \"sequential\"\n",
      "_________________________________________________________________\n",
      " Layer (type)                Output Shape              Param #   \n",
      "=================================================================\n",
      " lstm (LSTM)                 (None, 128)               4260864   \n",
      "                                                                 \n",
      " dense (Dense)               (None, 8193)              1056897   \n",
      "                                                                 \n",
      " activation (Activation)     (None, 8193)              0         \n",
      "                                                                 \n",
      "=================================================================\n",
      "Total params: 5,317,761\n",
      "Trainable params: 5,317,761\n",
      "Non-trainable params: 0\n",
      "_________________________________________________________________\n"
     ]
    }
   ],
   "source": [
    "model.summary()"
   ]
  },
  {
   "cell_type": "code",
   "execution_count": 13,
   "metadata": {
    "colab": {
     "base_uri": "https://localhost:8080/"
    },
    "id": "JtVHJaIT9mqS",
    "outputId": "d251c82b-f20a-4128-fd32-13cb9a52f630"
   },
   "outputs": [
    {
     "name": "stdout",
     "output_type": "stream",
     "text": [
      "Epoch 1/2\n",
      "810/810 [==============================] - 243s 295ms/step - loss: 6.0149 - accuracy: 0.1072 - val_loss: 7.1835 - val_accuracy: 0.0988\n",
      "Epoch 2/2\n",
      "810/810 [==============================] - 249s 308ms/step - loss: 5.7727 - accuracy: 0.1479 - val_loss: 8.0750 - val_accuracy: 0.1067\n"
     ]
    }
   ],
   "source": [
    "#Training the model.\n",
    "history = model.fit(X, Y, validation_split=0.05, batch_size=128, epochs=2, shuffle=True).history"
   ]
  },
  {
   "cell_type": "code",
   "execution_count": 14,
   "metadata": {
    "id": "0owA6seI9spS"
   },
   "outputs": [],
   "source": [
    "#Saving the model as h5 file\n",
    "model.save('next_word_model.h5')\n",
    "pickle.dump(history, open(\"history.p\", \"wb\"))\n",
    "#Loading the model\n",
    "model = load_model('next_word_model.h5')\n",
    "history = pickle.load(open(\"history.p\", \"rb\"))"
   ]
  },
  {
   "cell_type": "code",
   "execution_count": 16,
   "metadata": {
    "id": "Tk6juhZU-b-X"
   },
   "outputs": [],
   "source": [
    "#Defining a function to prepare input for using in model\n",
    "def prep(text):\n",
    "    x = np.zeros((1, LENGTH, len(unique_words)))\n",
    "    for a, word in enumerate(text.split()):\n",
    "        print(word)\n",
    "        x[0, a, unique_word_index[word]] = 1\n",
    "    return x"
   ]
  },
  {
   "cell_type": "code",
   "execution_count": 17,
   "metadata": {
    "colab": {
     "base_uri": "https://localhost:8080/"
    },
    "id": "qla8qIfMvv7s",
    "outputId": "9799d7ea-34c1-4e15-9aa9-d5b3d2ef1a95"
   },
   "outputs": [
    {
     "name": "stdout",
     "output_type": "stream",
     "text": [
      "it\n",
      "is\n",
      "not\n",
      "a\n",
      "lack\n"
     ]
    },
    {
     "data": {
      "text/plain": [
       "array([[[0., 0., 0., ..., 0., 0., 0.],\n",
       "        [0., 0., 0., ..., 0., 0., 0.],\n",
       "        [0., 0., 0., ..., 0., 0., 0.],\n",
       "        [0., 0., 0., ..., 0., 0., 0.],\n",
       "        [0., 0., 0., ..., 0., 0., 0.]]])"
      ]
     },
     "execution_count": 17,
     "metadata": {},
     "output_type": "execute_result"
    }
   ],
   "source": [
    "#using the prep funtion we are transforming the data\n",
    "prep(\"It is not a lack\".lower())"
   ]
  },
  {
   "cell_type": "code",
   "execution_count": 18,
   "metadata": {
    "id": "6is2xFMO-t_K"
   },
   "outputs": [],
   "source": [
    "#Defining a function called sample\n",
    "def sample(preds, top_n=3):\n",
    "    preds = np.asarray(preds).astype('float64')\n",
    "    preds = np.log(preds)\n",
    "    exp_preds = np.exp(preds)\n",
    "    preds = exp_preds / np.sum(exp_preds)\n",
    "    return heapq.nlargest(top_n, range(len(preds)), preds.take)"
   ]
  },
  {
   "cell_type": "code",
   "execution_count": 19,
   "metadata": {
    "id": "bJ7iCQHvRm9Q"
   },
   "outputs": [],
   "source": [
    "#Defining a function predict_completion to predict the data using model\n",
    "def completion(text):\n",
    "    original_text = text\n",
    "    generated = text\n",
    "    completion = ''\n",
    "    indices_char={}\n",
    "    while True:\n",
    "        x = prep(text)\n",
    "        preds = model.predict(x, verbose=0)[0]\n",
    "        next_index = sample(preds, top_n=1)[0]\n",
    "        next_char = indices_char[next_index]\n",
    "        text = text[1:] + next_char\n",
    "        completion += next_char\n",
    "        if len(original_text + completion) + 2 > len(original_text) and next_char == ' ':\n",
    "            return completion\n",
    "def completions(text, n=3):\n",
    "    x = prep(text)\n",
    "    preds = model.predict(x, verbose=0)[0]\n",
    "    next_indices = sample(preds, n)\n",
    "    return [unique_words[idx] + completion(text[1:] + completion[idx]) for idx in next_indices]"
   ]
  },
  {
   "cell_type": "code",
   "execution_count": 20,
   "metadata": {
    "id": "iSZ1fzNMFF7l"
   },
   "outputs": [],
   "source": [
    "def predict_completions(text, n=3):\n",
    "    if text == \"\":\n",
    "        return(\"0\")\n",
    "    x = prep(text)\n",
    "    preds = model.predict(x, verbose=0)[0]\n",
    "    next_indices = sample(preds, n)\n",
    "    return [unique_words[idx] for idx in next_indices]"
   ]
  },
  {
   "cell_type": "markdown",
   "metadata": {},
   "source": [
    "## Next word prediction"
   ]
  },
  {
   "cell_type": "code",
   "execution_count": 21,
   "metadata": {
    "colab": {
     "base_uri": "https://localhost:8080/"
    },
    "id": "fFd1NsidFKZh",
    "outputId": "d4e06270-a97d-4abf-a494-926f0dbe7451"
   },
   "outputs": [
    {
     "name": "stdout",
     "output_type": "stream",
     "text": [
      "correct sentence:  Your life will never be the same again\n",
      "Sequence:  your life will never be\n",
      "your\n",
      "life\n",
      "will\n",
      "never\n",
      "be\n",
      "next possible words:  ['to', 'in', 'so', 'and', 'a']\n"
     ]
    }
   ],
   "source": [
    "q =  \"Your life will never be the same again\"\n",
    "print(\"correct sentence: \",q)\n",
    "seq = \" \".join(tokenizer.tokenize(q.lower())[0:5])\n",
    "print(\"Sequence: \",seq)\n",
    "print(\"next possible words: \", predict_completions(seq, 5))\n"
   ]
  },
  {
   "cell_type": "code",
   "execution_count": null,
   "metadata": {
    "id": "ZCF9q4mbBhms"
   },
   "outputs": [],
   "source": []
  }
 ],
 "metadata": {
  "colab": {
   "name": "Untitled23.ipynb",
   "provenance": []
  },
  "kernelspec": {
   "display_name": "Python 3",
   "language": "python",
   "name": "python3"
  },
  "language_info": {
   "codemirror_mode": {
    "name": "ipython",
    "version": 3
   },
   "file_extension": ".py",
   "mimetype": "text/x-python",
   "name": "python",
   "nbconvert_exporter": "python",
   "pygments_lexer": "ipython3",
   "version": "3.9.5"
  }
 },
 "nbformat": 4,
 "nbformat_minor": 1
}
