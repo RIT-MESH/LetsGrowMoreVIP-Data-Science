{
 "cells": [
  {
   "cell_type": "markdown",
   "id": "fdc2fb39",
   "metadata": {},
   "source": [
    "# LetsGrowMoreVIP-Data Science Intern\n",
    "\n",
    "# Author-Ritesh Meshram\n",
    "\n",
    "# Image to Pencil Sketch with Python(BEGINNER LEVEL TASK)"
   ]
  },
  {
   "cell_type": "code",
   "execution_count": 1,
   "id": "8e0fc4cb",
   "metadata": {},
   "outputs": [],
   "source": [
    "#Import libraries\n",
    "import cv2"
   ]
  },
  {
   "cell_type": "code",
   "execution_count": 2,
   "id": "1169627a",
   "metadata": {},
   "outputs": [],
   "source": [
    "image = cv2.imread(\"image.jpg\")#load image"
   ]
  },
  {
   "cell_type": "code",
   "execution_count": 3,
   "id": "dd45e4bf",
   "metadata": {},
   "outputs": [],
   "source": [
    "gray_image = cv2.cvtColor(image, cv2.COLOR_BGR2GRAY) #convert and create a new image in grayscale"
   ]
  },
  {
   "cell_type": "code",
   "execution_count": 4,
   "id": "2e565eb4",
   "metadata": {},
   "outputs": [],
   "source": [
    "inverted = 255-gray_image #Invert the grayscale image"
   ]
  },
  {
   "cell_type": "code",
   "execution_count": 5,
   "id": "a204a277",
   "metadata": {},
   "outputs": [],
   "source": [
    "blur = cv2.GaussianBlur(inverted, (25, 25), 0) #Blur the inverted image using GaussianBlur() function"
   ]
  },
  {
   "cell_type": "code",
   "execution_count": 6,
   "id": "30117e33",
   "metadata": {},
   "outputs": [],
   "source": [
    "invertedblur = 255-blur#Again invert the blurred image"
   ]
  },
  {
   "cell_type": "code",
   "execution_count": 7,
   "id": "bf0c02ca",
   "metadata": {},
   "outputs": [],
   "source": [
    "sketch = cv2.divide(gray_image, invertedblur, scale=256.0)#Now convert the image into pencil sketch"
   ]
  },
  {
   "cell_type": "code",
   "execution_count": 8,
   "id": "5c08d3a4",
   "metadata": {},
   "outputs": [
    {
     "data": {
      "text/plain": [
       "True"
      ]
     },
     "execution_count": 8,
     "metadata": {},
     "output_type": "execute_result"
    }
   ],
   "source": [
    "cv2.imwrite(\"sketch.png\", sketch)"
   ]
  },
  {
   "cell_type": "code",
   "execution_count": 9,
   "id": "6af2479d",
   "metadata": {},
   "outputs": [],
   "source": [
    "cv2.imshow(\"original\", image)# original image\n",
    "cv2.imshow(\"Sketch\", sketch)# sketch of original"
   ]
  },
  {
   "cell_type": "code",
   "execution_count": 10,
   "id": "bf4a6629",
   "metadata": {},
   "outputs": [
    {
     "data": {
      "text/plain": [
       "-1"
      ]
     },
     "execution_count": 10,
     "metadata": {},
     "output_type": "execute_result"
    }
   ],
   "source": [
    "cv2.waitKey(0)"
   ]
  },
  {
   "cell_type": "code",
   "execution_count": null,
   "id": "30f685b3",
   "metadata": {},
   "outputs": [],
   "source": []
  }
 ],
 "metadata": {
  "kernelspec": {
   "display_name": "Python 3",
   "language": "python",
   "name": "python3"
  },
  "language_info": {
   "codemirror_mode": {
    "name": "ipython",
    "version": 3
   },
   "file_extension": ".py",
   "mimetype": "text/x-python",
   "name": "python",
   "nbconvert_exporter": "python",
   "pygments_lexer": "ipython3",
   "version": "3.9.5"
  }
 },
 "nbformat": 4,
 "nbformat_minor": 5
}
